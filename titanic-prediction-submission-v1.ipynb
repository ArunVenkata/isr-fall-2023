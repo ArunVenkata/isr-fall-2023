{
 "cells": [
  {
   "cell_type": "code",
   "execution_count": 1,
   "id": "fc1d28b5",
   "metadata": {
    "_cell_guid": "b1076dfc-b9ad-4769-8c92-a6c4dae69d19",
    "_uuid": "8f2839f25d086af736a60e9eeb907d3b93b6e0e5",
    "execution": {
     "iopub.execute_input": "2024-04-12T18:38:08.765734Z",
     "iopub.status.busy": "2024-04-12T18:38:08.765374Z",
     "iopub.status.idle": "2024-04-12T18:38:09.694286Z",
     "shell.execute_reply": "2024-04-12T18:38:09.693523Z"
    },
    "papermill": {
     "duration": 0.935424,
     "end_time": "2024-04-12T18:38:09.696526",
     "exception": false,
     "start_time": "2024-04-12T18:38:08.761102",
     "status": "completed"
    },
    "tags": []
   },
   "outputs": [
    {
     "name": "stdout",
     "output_type": "stream",
     "text": [
      "/kaggle/input/spaceship-titanic/sample_submission.csv\n",
      "/kaggle/input/spaceship-titanic/train.csv\n",
      "/kaggle/input/spaceship-titanic/test.csv\n"
     ]
    }
   ],
   "source": [
    "# This Python 3 environment comes with many helpful analytics libraries installed\n",
    "# It is defined by the kaggle/python Docker image: https://github.com/kaggle/docker-python\n",
    "# For example, here's several helpful packages to load\n",
    "\n",
    "import numpy as np # linear algebra\n",
    "import pandas as pd # data processing, CSV file I/O (e.g. pd.read_csv)\n",
    "\n",
    "# Input data files are available in the read-only \"../input/\" directory\n",
    "# For example, running this (by clicking run or pressing Shift+Enter) will list all files under the input directory\n",
    "\n",
    "import os\n",
    "for dirname, _, filenames in os.walk('/kaggle/input'):\n",
    "    for filename in filenames:\n",
    "        print(os.path.join(dirname, filename))\n",
    "\n",
    "# You can write up to 20GB to the current directory (/kaggle/working/) that gets preserved as output when you create a version using \"Save & Run All\" \n",
    "# You can also write temporary files to /kaggle/temp/, but they won't be saved outside of the current session"
   ]
  },
  {
   "cell_type": "code",
   "execution_count": 2,
   "id": "bb70d5eb",
   "metadata": {
    "execution": {
     "iopub.execute_input": "2024-04-12T18:38:09.703270Z",
     "iopub.status.busy": "2024-04-12T18:38:09.702165Z",
     "iopub.status.idle": "2024-04-12T18:38:19.762998Z",
     "shell.execute_reply": "2024-04-12T18:38:19.762137Z"
    },
    "papermill": {
     "duration": 10.066346,
     "end_time": "2024-04-12T18:38:19.765215",
     "exception": false,
     "start_time": "2024-04-12T18:38:09.698869",
     "status": "completed"
    },
    "tags": []
   },
   "outputs": [
    {
     "name": "stdout",
     "output_type": "stream",
     "text": [
      "Random Forest accuracy: 0.7757331799884991\n",
      "XGBoost accuracy: 0.7780333525014376\n"
     ]
    }
   ],
   "source": [
    "import pandas as pd\n",
    "from sklearn.model_selection import train_test_split\n",
    "from sklearn.preprocessing import StandardScaler, OneHotEncoder\n",
    "from sklearn.compose import ColumnTransformer\n",
    "from sklearn.pipeline import Pipeline\n",
    "from sklearn.impute import SimpleImputer\n",
    "from sklearn.ensemble import RandomForestClassifier\n",
    "from sklearn.metrics import accuracy_score\n",
    "import xgboost as xgb\n",
    "\n",
    "# Load the dataset\n",
    "train_data = pd.read_csv('/kaggle/input/spaceship-titanic/train.csv')\n",
    "test_data = pd.read_csv('/kaggle/input/spaceship-titanic/test.csv')\n",
    "\n",
    "# Preprocess the data\n",
    "features = ['HomePlanet', 'CryoSleep', 'Cabin', 'Destination', 'Age', 'VIP', 'RoomService', 'FoodCourt', 'ShoppingMall', 'Spa', 'VRDeck']\n",
    "X = train_data[features]\n",
    "y = train_data['Transported']\n",
    "\n",
    "# Handling categorical and numerical variables\n",
    "numerical_cols = ['Age', 'RoomService', 'FoodCourt', 'ShoppingMall', 'Spa', 'VRDeck']\n",
    "categorical_cols = ['HomePlanet', 'CryoSleep', 'Cabin', 'Destination', 'VIP']\n",
    "\n",
    "# Preprocessing for numerical data\n",
    "numerical_transformer = Pipeline(steps=[\n",
    "    ('imputer', SimpleImputer(strategy='mean')),\n",
    "    ('scaler', StandardScaler())])\n",
    "\n",
    "# Preprocessing for categorical data\n",
    "categorical_transformer = Pipeline(steps=[\n",
    "    ('imputer', SimpleImputer(strategy='most_frequent')),\n",
    "    ('onehot', OneHotEncoder(handle_unknown='ignore'))])\n",
    "\n",
    "# Bundle preprocessing for numerical and categorical data\n",
    "preprocessor = ColumnTransformer(\n",
    "    transformers=[\n",
    "        ('num', numerical_transformer, numerical_cols),\n",
    "        ('cat', categorical_transformer, categorical_cols)])\n",
    "\n",
    "# Define the model\n",
    "model_rf = RandomForestClassifier(n_estimators=100, random_state=0)\n",
    "model_xgb = xgb.XGBClassifier(use_label_encoder=False, eval_metric='logloss')\n",
    "\n",
    "# Create and evaluate the pipeline\n",
    "pipeline_rf = Pipeline(steps=[('preprocessor', preprocessor),\n",
    "                              ('model', model_rf)])\n",
    "\n",
    "pipeline_xgb = Pipeline(steps=[('preprocessor', preprocessor),\n",
    "                               ('model', model_xgb)])\n",
    "\n",
    "# Split data into train and validation sets\n",
    "X_train, X_valid, y_train, y_valid = train_test_split(X, y, train_size=0.8, test_size=0.2, random_state=0)\n",
    "\n",
    "# Train and evaluate the Random Forest model\n",
    "pipeline_rf.fit(X_train, y_train)\n",
    "preds_valid_rf = pipeline_rf.predict(X_valid)\n",
    "print('Random Forest accuracy:', accuracy_score(y_valid, preds_valid_rf))\n",
    "\n",
    "# Train and evaluate the XGBoost model\n",
    "pipeline_xgb.fit(X_train, y_train)\n",
    "preds_valid_xgb = pipeline_xgb.predict(X_valid)\n",
    "print('XGBoost accuracy:', accuracy_score(y_valid, preds_valid_xgb))\n"
   ]
  },
  {
   "cell_type": "code",
   "execution_count": 3,
   "id": "1e18b244",
   "metadata": {
    "execution": {
     "iopub.execute_input": "2024-04-12T18:38:19.772299Z",
     "iopub.status.busy": "2024-04-12T18:38:19.771331Z",
     "iopub.status.idle": "2024-04-12T18:38:29.991125Z",
     "shell.execute_reply": "2024-04-12T18:38:29.989917Z"
    },
    "papermill": {
     "duration": 10.225954,
     "end_time": "2024-04-12T18:38:29.993659",
     "exception": false,
     "start_time": "2024-04-12T18:38:19.767705",
     "status": "completed"
    },
    "tags": []
   },
   "outputs": [
    {
     "name": "stdout",
     "output_type": "stream",
     "text": [
      "Submission file saved.\n"
     ]
    }
   ],
   "source": [
    "# Create and evaluate the pipeline\n",
    "pipeline_rf = Pipeline(steps=[('preprocessor', preprocessor),\n",
    "                              ('model', model_rf)])\n",
    "\n",
    "# Train the Random Forest model on the training data\n",
    "pipeline_rf.fit(X, y)  # Note: Use the full training data X and labels y here\n",
    "\n",
    "# Now we use the pipeline to predict on the test data, which will ensure the same preprocessing steps\n",
    "test_preds_rf = pipeline_rf.predict(test_data[features])\n",
    "\n",
    "# Create a DataFrame for the submission file\n",
    "submission = pd.DataFrame({\n",
    "    'PassengerId': test_data['PassengerId'],\n",
    "    'Transported': test_preds_rf\n",
    "})\n",
    "\n",
    "# Convert 'Transported' from boolean to the required format (True/False as strings)\n",
    "submission['Transported'] = submission['Transported'].astype(str)\n",
    "\n",
    "# Save the submission file\n",
    "submission.to_csv('submission.csv', index=False)\n",
    "\n",
    "print(\"Submission file saved.\")"
   ]
  }
 ],
 "metadata": {
  "kaggle": {
   "accelerator": "none",
   "dataSources": [
    {
     "databundleVersionId": 3220602,
     "sourceId": 34377,
     "sourceType": "competition"
    }
   ],
   "dockerImageVersionId": 30646,
   "isGpuEnabled": false,
   "isInternetEnabled": true,
   "language": "python",
   "sourceType": "notebook"
  },
  "kernelspec": {
   "display_name": "Python 3",
   "language": "python",
   "name": "python3"
  },
  "language_info": {
   "codemirror_mode": {
    "name": "ipython",
    "version": 3
   },
   "file_extension": ".py",
   "mimetype": "text/x-python",
   "name": "python",
   "nbconvert_exporter": "python",
   "pygments_lexer": "ipython3",
   "version": "3.10.13"
  },
  "papermill": {
   "default_parameters": {},
   "duration": 24.780127,
   "end_time": "2024-04-12T18:38:30.617098",
   "environment_variables": {},
   "exception": null,
   "input_path": "__notebook__.ipynb",
   "output_path": "__notebook__.ipynb",
   "parameters": {},
   "start_time": "2024-04-12T18:38:05.836971",
   "version": "2.5.0"
  }
 },
 "nbformat": 4,
 "nbformat_minor": 5
}
